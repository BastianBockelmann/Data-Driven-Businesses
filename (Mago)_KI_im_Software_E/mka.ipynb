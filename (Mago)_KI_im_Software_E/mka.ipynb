{
 "cells": [
  {
   "cell_type": "code",
   "execution_count": 62,
   "metadata": {
    "colab": {
     "base_uri": "https://localhost:8080/",
     "height": 706
    },
    "executionInfo": {
     "elapsed": 857,
     "status": "ok",
     "timestamp": 1697443265451,
     "user": {
      "displayName": "Mr. Ben",
      "userId": "14464510081174440893"
     },
     "user_tz": -120
    },
    "id": "2hNN7WALjFYW",
    "outputId": "c4c7fcee-ca88-453b-fb35-3925a74950cf"
   },
   "outputs": [],
   "source": [
    "import pandas as pd\n",
    "import altair as alt\n",
    "\n",
    "import pandas as pd\n",
    "from umap import UMAP\n",
    "from hdbscan import HDBSCAN\n",
    "from sentence_transformers import SentenceTransformer\n",
    "from sklearn.feature_extraction.text import CountVectorizer\n",
    "\n",
    "from bertopic import BERTopic\n",
    "from bertopic.representation import KeyBERTInspired\n",
    "from bertopic.vectorizers import ClassTfidfTransformer\n",
    "\n",
    "alt.data_transformers.disable_max_rows()\n",
    "\n",
    "# Daten laden\n",
    "df = pd.read_csv('AI_Related_Papers_Cleaned.csv')\n"
   ]
  },
  {
   "cell_type": "code",
   "execution_count": 3,
   "metadata": {
    "colab": {
     "base_uri": "https://localhost:8080/"
    },
    "executionInfo": {
     "elapsed": 39,
     "status": "ok",
     "timestamp": 1697443265453,
     "user": {
      "displayName": "Mr. Ben",
      "userId": "14464510081174440893"
     },
     "user_tz": -120
    },
    "id": "wj0vdZ_tjFYc",
    "outputId": "cb7df833-1aa5-4fd3-9e03-9d01ed43ee35"
   },
   "outputs": [],
   "source": [
    "# Löschen von Zeilen mit fehlenden Werten\n",
    "#df.dropna(subset=['Abstract', 'Publication Year'], inplace=True)"
   ]
  },
  {
   "cell_type": "code",
   "execution_count": 63,
   "metadata": {
    "executionInfo": {
     "elapsed": 31,
     "status": "ok",
     "timestamp": 1697443367986,
     "user": {
      "displayName": "Mr. Ben",
      "userId": "14464510081174440893"
     },
     "user_tz": -120
    },
    "id": "ErdCJCWekPLD"
   },
   "outputs": [],
   "source": [
    "docs = df[\"Abstract\"].to_list()\n",
    "assert len(docs) == len(df)"
   ]
  },
  {
   "cell_type": "code",
   "execution_count": 102,
   "metadata": {
    "id": "GyVoQAtgjFYd"
   },
   "outputs": [
    {
     "data": {
      "text/plain": [
       "<bertopic._bertopic.BERTopic at 0x35c501f70>"
      ]
     },
     "execution_count": 102,
     "metadata": {},
     "output_type": "execute_result"
    }
   ],
   "source": [
    "# Step 1 - Extract embeddings\n",
    "embedding_model = SentenceTransformer(\"all-MiniLM-L6-v2\")\n",
    "\n",
    "# Step 2 - Reduce dimensionality\n",
    "umap_model = UMAP(\n",
    "    n_neighbors=10,\n",
    "    n_components=2,\n",
    "    min_dist=0.0,\n",
    "    metric='cosine',\n",
    "    random_state=42 #Optional\n",
    "    )\n",
    "\n",
    "# Step 3 - Cluster reduced embeddings\n",
    "hdbscan_model = HDBSCAN(\n",
    "    min_cluster_size=5,\n",
    "    metric='euclidean',\n",
    "    cluster_selection_method='eom',\n",
    "    prediction_data=True\n",
    "    )\n",
    "\n",
    "# Step 4 - Tokenize topics\n",
    "vectorizer_model = CountVectorizer(stop_words=[])\n",
    "\n",
    "# Step 5 - Create topic representation\n",
    "ctfidf_model = ClassTfidfTransformer()\n",
    "\n",
    "# Step 6 - (Optional) Fine-tune topic representations with\n",
    "# a `bertopic.representation` model\n",
    "representation_model = KeyBERTInspired()\n",
    "\n",
    "# All steps together\n",
    "topic_model = BERTopic(\n",
    "    # Step 1 - Extract embeddings\n",
    "    embedding_model=embedding_model,\n",
    "    # Step 2 - Reduce dimensionality\n",
    "    umap_model=umap_model,\n",
    "    # Step 3 - Cluster reduced embeddings\n",
    "    hdbscan_model=hdbscan_model,\n",
    "    # Step 4 - Tokenize topics\n",
    "    vectorizer_model=vectorizer_model,\n",
    "    # Step 5 - Extract topic words\n",
    "    ctfidf_model=ctfidf_model,\n",
    "    # Step 6 - (Optional) Fine-tune topic represenations\n",
    "    representation_model=representation_model\n",
    ")\n",
    "\n",
    "topics, probs = topic_model.fit_transform(docs)\n",
    "\n",
    "# Dann auf Top 8 reduzieren\n",
    "topic_model.reduce_topics(docs, nr_topics=9)"
   ]
  },
  {
   "cell_type": "code",
   "execution_count": 103,
   "metadata": {
    "colab": {
     "base_uri": "https://localhost:8080/",
     "height": 331
    },
    "executionInfo": {
     "elapsed": 31,
     "status": "ok",
     "timestamp": 1697443395788,
     "user": {
      "displayName": "Mr. Ben",
      "userId": "14464510081174440893"
     },
     "user_tz": -120
    },
    "id": "xjXhaxSejFYe",
    "outputId": "0ef74aaa-1c2e-455b-bee9-2e2a4dc6eb56"
   },
   "outputs": [
    {
     "data": {
      "text/html": [
       "<div>\n",
       "<style scoped>\n",
       "    .dataframe tbody tr th:only-of-type {\n",
       "        vertical-align: middle;\n",
       "    }\n",
       "\n",
       "    .dataframe tbody tr th {\n",
       "        vertical-align: top;\n",
       "    }\n",
       "\n",
       "    .dataframe thead th {\n",
       "        text-align: right;\n",
       "    }\n",
       "</style>\n",
       "<table border=\"1\" class=\"dataframe\">\n",
       "  <thead>\n",
       "    <tr style=\"text-align: right;\">\n",
       "      <th></th>\n",
       "      <th>Topic</th>\n",
       "      <th>Count</th>\n",
       "      <th>Name</th>\n",
       "      <th>Representation</th>\n",
       "      <th>Representative_Docs</th>\n",
       "    </tr>\n",
       "  </thead>\n",
       "  <tbody>\n",
       "    <tr>\n",
       "      <th>0</th>\n",
       "      <td>-1</td>\n",
       "      <td>171</td>\n",
       "      <td>-1_software_faults_developers_tools</td>\n",
       "      <td>[software, faults, developers, tools, programs...</td>\n",
       "      <td>[The use of Artificial Intelligence (AI), and ...</td>\n",
       "    </tr>\n",
       "    <tr>\n",
       "      <th>1</th>\n",
       "      <td>0</td>\n",
       "      <td>286</td>\n",
       "      <td>0_code_program_developers_software</td>\n",
       "      <td>[code, program, developers, software, automate...</td>\n",
       "      <td>[The Transformer architecture and transfer lea...</td>\n",
       "    </tr>\n",
       "    <tr>\n",
       "      <th>2</th>\n",
       "      <td>1</td>\n",
       "      <td>85</td>\n",
       "      <td>1_adversarial_vulnerabilities_vulnerability_vu...</td>\n",
       "      <td>[adversarial, vulnerabilities, vulnerability, ...</td>\n",
       "      <td>[Deep learning (DL) plays a more and more impo...</td>\n",
       "    </tr>\n",
       "    <tr>\n",
       "      <th>3</th>\n",
       "      <td>2</td>\n",
       "      <td>29</td>\n",
       "      <td>2_testing_coverage_test_faults</td>\n",
       "      <td>[testing, coverage, test, faults, mutants, mut...</td>\n",
       "      <td>[The test case generation is intrinsically a m...</td>\n",
       "    </tr>\n",
       "    <tr>\n",
       "      <th>4</th>\n",
       "      <td>3</td>\n",
       "      <td>26</td>\n",
       "      <td>3_metamodels_specification_metamodel_modeling</td>\n",
       "      <td>[metamodels, specification, metamodel, modelin...</td>\n",
       "      <td>[Formal methods and supporting tools have a lo...</td>\n",
       "    </tr>\n",
       "    <tr>\n",
       "      <th>5</th>\n",
       "      <td>4</td>\n",
       "      <td>22</td>\n",
       "      <td>4_concurrency_scheduling_protocols_deadlocks</td>\n",
       "      <td>[concurrency, scheduling, protocols, deadlocks...</td>\n",
       "      <td>[In this paper, we describe Teapot, a domain-s...</td>\n",
       "    </tr>\n",
       "    <tr>\n",
       "      <th>6</th>\n",
       "      <td>5</td>\n",
       "      <td>9</td>\n",
       "      <td>5_markovian_markov_stochastic_probabilistic</td>\n",
       "      <td>[markovian, markov, stochastic, probabilistic,...</td>\n",
       "      <td>[Equivalence relations can be used to reduce t...</td>\n",
       "    </tr>\n",
       "    <tr>\n",
       "      <th>7</th>\n",
       "      <td>6</td>\n",
       "      <td>8</td>\n",
       "      <td>6_programming_programmers_developers_collabora...</td>\n",
       "      <td>[programming, programmers, developers, collabo...</td>\n",
       "      <td>[Pair Programming is one of the most studied a...</td>\n",
       "    </tr>\n",
       "    <tr>\n",
       "      <th>8</th>\n",
       "      <td>7</td>\n",
       "      <td>6</td>\n",
       "      <td>7_icse_conference_2022_ieee</td>\n",
       "      <td>[icse, conference, 2022, ieee, 2023, acm, 2024...</td>\n",
       "      <td>[What's new with ICSE 2022 ICSE 2022 is here! ...</td>\n",
       "    </tr>\n",
       "  </tbody>\n",
       "</table>\n",
       "</div>"
      ],
      "text/plain": [
       "   Topic  Count                                               Name  \\\n",
       "0     -1    171                -1_software_faults_developers_tools   \n",
       "1      0    286                 0_code_program_developers_software   \n",
       "2      1     85  1_adversarial_vulnerabilities_vulnerability_vu...   \n",
       "3      2     29                     2_testing_coverage_test_faults   \n",
       "4      3     26      3_metamodels_specification_metamodel_modeling   \n",
       "5      4     22       4_concurrency_scheduling_protocols_deadlocks   \n",
       "6      5      9        5_markovian_markov_stochastic_probabilistic   \n",
       "7      6      8  6_programming_programmers_developers_collabora...   \n",
       "8      7      6                        7_icse_conference_2022_ieee   \n",
       "\n",
       "                                      Representation  \\\n",
       "0  [software, faults, developers, tools, programs...   \n",
       "1  [code, program, developers, software, automate...   \n",
       "2  [adversarial, vulnerabilities, vulnerability, ...   \n",
       "3  [testing, coverage, test, faults, mutants, mut...   \n",
       "4  [metamodels, specification, metamodel, modelin...   \n",
       "5  [concurrency, scheduling, protocols, deadlocks...   \n",
       "6  [markovian, markov, stochastic, probabilistic,...   \n",
       "7  [programming, programmers, developers, collabo...   \n",
       "8  [icse, conference, 2022, ieee, 2023, acm, 2024...   \n",
       "\n",
       "                                 Representative_Docs  \n",
       "0  [The use of Artificial Intelligence (AI), and ...  \n",
       "1  [The Transformer architecture and transfer lea...  \n",
       "2  [Deep learning (DL) plays a more and more impo...  \n",
       "3  [The test case generation is intrinsically a m...  \n",
       "4  [Formal methods and supporting tools have a lo...  \n",
       "5  [In this paper, we describe Teapot, a domain-s...  \n",
       "6  [Equivalence relations can be used to reduce t...  \n",
       "7  [Pair Programming is one of the most studied a...  \n",
       "8  [What's new with ICSE 2022 ICSE 2022 is here! ...  "
      ]
     },
     "execution_count": 103,
     "metadata": {},
     "output_type": "execute_result"
    }
   ],
   "source": [
    "topic_model.get_topic_info()"
   ]
  },
  {
   "cell_type": "code",
   "execution_count": 104,
   "metadata": {
    "executionInfo": {
     "elapsed": 12,
     "status": "ok",
     "timestamp": 1697443395789,
     "user": {
      "displayName": "Mr. Ben",
      "userId": "14464510081174440893"
     },
     "user_tz": -120
    },
    "id": "cfTcUTyxjFYe"
   },
   "outputs": [],
   "source": [
    "topics_per_doc = topic_model.get_document_info(docs)\n",
    "reprsentative_docs_0 = topics_per_doc[\n",
    "    (topics_per_doc[\"Representative_document\"] == True) &\n",
    "    (topics_per_doc[\"Topic\"] == 0)\n",
    "    ]"
   ]
  },
  {
   "cell_type": "code",
   "execution_count": 105,
   "metadata": {
    "colab": {
     "base_uri": "https://localhost:8080/",
     "height": 817
    },
    "executionInfo": {
     "elapsed": 9507,
     "status": "ok",
     "timestamp": 1697443405284,
     "user": {
      "displayName": "Mr. Ben",
      "userId": "14464510081174440893"
     },
     "user_tz": -120
    },
    "id": "lr9D6ErVjFYe",
    "outputId": "632b77be-16d5-4f78-cb94-e28f1e53b86d"
   },
   "outputs": [],
   "source": [
    "# Visualisierung erstellen\n",
    "fig = topic_model.visualize_documents(\n",
    "    docs,\n",
    "    topics=list(range(len(topic_model.get_topics()))),  # Stellt sicher, dass bei 0 begonnen wird\n",
    "    width=800,\n",
    "    height=800\n",
    ")\n",
    "\n",
    "# Als HTML-Datei speichern\n",
    "fig.write_html(\"topic_visualization.html\")"
   ]
  },
  {
   "cell_type": "code",
   "execution_count": 106,
   "metadata": {
    "colab": {
     "base_uri": "https://localhost:8080/"
    },
    "executionInfo": {
     "elapsed": 12,
     "status": "ok",
     "timestamp": 1697443405285,
     "user": {
      "displayName": "Mr. Ben",
      "userId": "14464510081174440893"
     },
     "user_tz": -120
    },
    "id": "aPTZv-IujFYf",
    "outputId": "d19757c3-61a4-4bd4-d401-eeefbcb8c486"
   },
   "outputs": [
    {
     "name": "stdout",
     "output_type": "stream",
     "text": [
      "Mittelwert: 207.33177570093457, Maximum: 413\n"
     ]
    }
   ],
   "source": [
    "reviews = df[\"Abstract\"]\n",
    "\n",
    "mean = reviews.str.split().apply(len).mean()\n",
    "max = reviews.str.split().apply(len).max()\n",
    "\n",
    "print(f\"\"\"Mittelwert: {mean}, Maximum: {max}\"\"\")"
   ]
  },
  {
   "cell_type": "code",
   "execution_count": 110,
   "metadata": {
    "colab": {
     "base_uri": "https://localhost:8080/",
     "height": 617
    },
    "executionInfo": {
     "elapsed": 973,
     "status": "ok",
     "timestamp": 1697443406249,
     "user": {
      "displayName": "Mr. Ben",
      "userId": "14464510081174440893"
     },
     "user_tz": -120
    },
    "id": "vvMOtIfCMO7n",
    "outputId": "9cabaf3b-526d-4e1c-8f2b-58e28aa67336"
   },
   "outputs": [],
   "source": [
    "# Visualisierung der Topic-Interdistanzen erstellen\n",
    "fig_interdistance_topic = topic_model.visualize_topics(\n",
    "    width=850,\n",
    "    height=650\n",
    ")\n",
    "\n",
    "# Als HTML-Datei speichern\n",
    "fig_interdistance_topic.write_html(\"topic_interdistance.html\")"
   ]
  },
  {
   "cell_type": "code",
   "execution_count": 111,
   "metadata": {
    "colab": {
     "base_uri": "https://localhost:8080/",
     "height": 517
    },
    "executionInfo": {
     "elapsed": 22,
     "status": "ok",
     "timestamp": 1697443406249,
     "user": {
      "displayName": "Mr. Ben",
      "userId": "14464510081174440893"
     },
     "user_tz": -120
    },
    "id": "B3jcLyo1ivFl",
    "outputId": "bb3cd857-6cfb-49ce-b42f-331a9f481075"
   },
   "outputs": [],
   "source": [
    "# Balkendiagramm erstellen\n",
    "fig_barchart = topic_model.visualize_barchart()\n",
    "\n",
    "# Als HTML-Datei speichern\n",
    "fig_barchart.write_html(\"topic_barchart.html\")"
   ]
  },
  {
   "cell_type": "code",
   "execution_count": 112,
   "metadata": {
    "colab": {
     "base_uri": "https://localhost:8080/",
     "height": 717
    },
    "executionInfo": {
     "elapsed": 18,
     "status": "ok",
     "timestamp": 1697443406250,
     "user": {
      "displayName": "Mr. Ben",
      "userId": "14464510081174440893"
     },
     "user_tz": -120
    },
    "id": "0_VzqpwCN4gM",
    "outputId": "f0c29fb0-4af9-47f6-cab6-5ac119bfcc9a"
   },
   "outputs": [],
   "source": [
    "# Heatmap erstellen\n",
    "fig_heatmap = topic_model.visualize_heatmap(\n",
    "    n_clusters=3,\n",
    "    width=700,\n",
    "    height=700\n",
    ")\n",
    "\n",
    "# Als HTML-Datei speichern\n",
    "fig_heatmap.write_html(\"topic_heatmap.html\")"
   ]
  },
  {
   "cell_type": "code",
   "execution_count": 113,
   "metadata": {
    "colab": {
     "base_uri": "https://localhost:8080/",
     "height": 467
    },
    "executionInfo": {
     "elapsed": 17638,
     "status": "ok",
     "timestamp": 1697443423873,
     "user": {
      "displayName": "Mr. Ben",
      "userId": "14464510081174440893"
     },
     "user_tz": -120
    },
    "id": "9ehgdtO7S4tJ",
    "outputId": "1148f485-7acc-474e-a114-1e0bf3896f79"
   },
   "outputs": [],
   "source": [
    "# Zeitstempel extrahieren\n",
    "timestamps = df[\"Publication Year\"].to_list()\n",
    "\n",
    "# Topics über Zeit berechnen\n",
    "topics_over_time = topic_model.topics_over_time(docs, timestamps)\n",
    "\n",
    "# Visualisierung erstellen\n",
    "fig_topic_over_time = topic_model.visualize_topics_over_time(\n",
    "    topics_over_time,\n",
    "    width=1000\n",
    ")\n",
    "\n",
    "# Als HTML-Datei speichern\n",
    "fig_topic_over_time.write_html(\"topics_over_time.html\")"
   ]
  },
  {
   "cell_type": "code",
   "execution_count": 95,
   "metadata": {
    "colab": {
     "base_uri": "https://localhost:8080/"
    },
    "executionInfo": {
     "elapsed": 15,
     "status": "ok",
     "timestamp": 1697443423874,
     "user": {
      "displayName": "Mr. Ben",
      "userId": "14464510081174440893"
     },
     "user_tz": -120
    },
    "id": "YbR4JpWQr5Yz",
    "outputId": "58f0a598-eb86-455d-cf58-284f3d3bd456"
   },
   "outputs": [
    {
     "name": "stdout",
     "output_type": "stream",
     "text": [
      "[1994, 1994, 1994, 1994, 1994, 1994, 1994, 1995, 1995, 1995, 1995, 1995, 1995, 1995, 1995, 1995, 1995, 1996, 1996, 1996, 1996, 1996, 1997, 1998, 1998, 1998, 1998, 1999, 1999, 1999, 1999, 1999, 1999, 1999, 1999, 1999, 1999, 2000, 2000, 2000, 2000, 2000, 2000, 2000, 2001, 2001, 2001, 2001, 2001, 2002, 2002, 2002, 2002, 2002, 2002, 2002, 2003, 2003, 2003, 2003, 2003, 2003, 2003, 2004, 2004, 2004, 2004, 2004, 2004, 2004, 2005, 2005, 2005, 2005, 2005, 2005, 2005, 2005, 2006, 2006, 2006, 2006, 2006, 2006, 2007, 2007, 2007, 2007, 2007, 2007, 2007, 2008, 2008, 2008, 2008, 2008, 2008, 2008, 2008, 2008, 2008, 2008, 2009, 2009, 2009, 2009, 2009, 2009, 2010, 2010, 2010, 2010, 2010, 2010, 2011, 2011, 2011, 2011, 2011, 2011, 2012, 2012, 2012, 2012, 2012, 2012, 2012, 2012, 2012, 2012, 2012, 2012, 2012, 2012, 2012, 2012, 2012, 2012, 2012, 2012, 2012, 2012, 2012, 2012, 2012, 2012, 2012, 2012, 2012, 2012, 2012, 2012, 2012, 2012, 2012, 2012, 2012, 2012, 2012, 2012, 2012, 2012, 2013, 2013, 2013, 2013, 2013, 2013, 2013, 2013, 2013, 2013, 2013, 2013, 2013, 2013, 2013, 2014, 2014, 2014, 2014, 2015, 2015, 2015, 2015, 2015, 2016, 2016, 2016, 2016, 2016, 2016, 2016, 2016, 2016, 2016, 2016, 2016, 2016, 2016, 2016, 2016, 2017, 2017, 2017, 2017, 2017, 2017, 2017, 2017, 2017, 2017, 2018, 2018, 2018, 2018, 2018, 2018, 2018, 2018, 2018, 2019, 2019, 2019, 2019, 2019, 2019, 2019, 2019, 2019, 2019, 2019, 2019, 2019, 2020, 2020, 2020, 2020, 2020, 2020, 2020, 2020, 2020, 2020, 2020, 2020, 2020, 2020, 2021, 2021, 2021, 2021, 2021, 2021, 2021, 2021, 2021, 2021, 2021, 2021, 2021, 2021, 2021, 2021, 2021, 2021, 2021, 2021, 2021, 2021, 2021, 2021, 2021, 2021, 2021, 2021, 2021, 2021, 2021, 2022, 2022, 2022, 2022, 2022, 2022, 2022, 2022, 2022, 2022, 2022, 2022, 2022, 2022, 2022, 2022, 2022, 2022, 2022, 2022, 2022, 2022, 2022, 2022, 2022, 2022, 2022, 2022, 2022, 2022, 2022, 2022, 2022, 2022, 2022, 2022, 2022, 2022, 2022, 2022, 2022, 2022, 2022, 2022, 2022, 2022, 2022, 2022, 2022, 2022, 2022, 2022, 2022, 2022, 2022, 2022, 2022, 2022, 2022, 2022, 2022, 2022, 2022, 2022, 2022, 2022, 2022, 2022, 2022, 2022, 2022, 2022, 2022, 2022, 2022, 2022, 2022, 2022, 2022, 2022, 2022, 2022, 2022, 2022, 2022, 2022, 2022, 2022, 2022, 2022, 2022, 2022, 2022, 2022, 2022, 2022, 2022, 2022, 2022, 2022, 2022, 2022, 2022, 2022, 2022, 2022, 2022, 2023, 2023, 2023, 2023, 2023, 2023, 2023, 2023, 2023, 2023, 2023, 2023, 2023, 2023, 2023, 2023, 2023, 2023, 2023, 2023, 2023, 2023, 2023, 2023, 2023, 2023, 2023, 2023, 2023, 2023, 2023, 2023, 2023, 2023, 2023, 2023, 2023, 2023, 2023, 2023, 2023, 2023, 2023, 2023, 2023, 2023, 2023, 2023, 2023, 2023, 2023, 2023, 2023, 2023, 2023, 2023, 2023, 2023, 2023, 2023, 2023, 2023, 2023, 2023, 2023, 2023, 2023, 2023, 2023, 2023, 2023, 2023, 2023, 2023, 2023, 2023, 2023, 2023, 2023, 2023, 2023, 2023, 2023, 2023, 2023, 2023, 2023, 2023, 2023, 2023, 2023, 2023, 2023, 2023, 2023, 2023, 2023, 2023, 2023, 2023, 2023, 2023, 2023, 2023, 2023, 2023, 2023, 2023, 2023, 2023, 2023, 2023, 2023, 2023, 2023, 2023, 2023, 2023, 2023, 2024, 2024, 2024, 2024, 2024, 2024, 2024, 2024, 2024, 2024, 2024, 2024, 2024, 2024, 2024, 2024, 2024, 2024, 2024, 2024, 2024, 2024, 2024, 2024, 2024, 2024, 2024, 2024, 2024, 2024, 2024, 2024, 2024, 2024, 2024, 2024, 2024, 2024, 2024, 2024, 2024, 2024, 2024, 2024, 2024, 2024, 2024, 2024, 2024, 2024, 2024, 2024, 2024, 2024, 2024, 2024, 2024, 2024, 2024, 2024, 2024, 2024, 2024, 2024, 2024, 2024, 2024, 2024, 2024, 2024, 2024, 2024, 2024, 2024, 2024, 2024, 2024, 2024, 2024, 2024, 2024, 2024, 2024, 2024, 2024, 2024, 2024, 2024, 2024, 2024, 2024, 2024, 2024, 2024, 2024, 2024, 2024, 2024, 2024, 2024, 2024, 2024, 2024, 2024, 2024, 2024, 2024, 2024, 2024, 2024, 2024, 2024, 2024, 2024, 2024, 2024, 2024, 2024, 2024, 2024, 2024, 2024, 2024, 2024, 2024, 2024, 2024, 2024, 2024, 2024, 2024, 2024, 2024, 2024, 2024, 2024, 2024]\n"
     ]
    }
   ],
   "source": [
    "timestamps.sort()\n",
    "print(timestamps)"
   ]
  },
  {
   "cell_type": "code",
   "execution_count": 100,
   "metadata": {
    "colab": {
     "base_uri": "https://localhost:8080/",
     "height": 1000
    },
    "executionInfo": {
     "elapsed": 111707,
     "status": "ok",
     "timestamp": 1697446466749,
     "user": {
      "displayName": "Mr. Ben",
      "userId": "14464510081174440893"
     },
     "user_tz": -120
    },
    "id": "D2mRyKfyTUx_",
    "outputId": "2f19b880-e583-40a1-91aa-4dbf124cd94c"
   },
   "outputs": [
    {
     "name": "stdout",
     "output_type": "stream",
     "text": [
      "Verfügbare Spalten im DataFrame:\n",
      "['Document Title', 'Authors', 'Author Affiliations', 'Publication Title', 'Date Added To Xplore', 'Publication Year', 'Volume', 'Issue', 'Start Page', 'End Page', 'Abstract', 'ISSN', 'ISBNs', 'DOI', 'Funding Information', 'PDF Link', 'Author Keywords', 'IEEE Terms', 'Mesh_Terms', 'Article Citation Count', 'Patent Citation Count', 'Reference Count', 'License', 'Online Date', 'Issue Date', 'Meeting Date', 'Publisher', 'Document Identifier', 'is_ai_related']\n"
     ]
    }
   ],
   "source": [
    "# Vorhandene Spalten anzeigen\n",
    "print(\"Verfügbare Spalten im DataFrame:\")\n",
    "print(df.columns.tolist())"
   ]
  },
  {
   "cell_type": "code",
   "execution_count": 101,
   "metadata": {
    "executionInfo": {
     "elapsed": 12,
     "status": "aborted",
     "timestamp": 1697443424639,
     "user": {
      "displayName": "Mr. Ben",
      "userId": "14464510081174440893"
     },
     "user_tz": -120
    },
    "id": "56Pm0GltTfi4"
   },
   "outputs": [],
   "source": [
    "# Angepasster Code mit dem korrekten Spaltennamen\n",
    "classes = df[\"Document Title\"].to_list()\n",
    "topics_per_classes = topic_model.topics_per_class(docs, classes)\n",
    "fig_topic_per_class = topic_model.visualize_topics_per_class(\n",
    "    topics_per_classes, \n",
    "    width=2000, \n",
    "    height=2000\n",
    ")\n",
    "\n",
    "# Als HTML-Datei speichern\n",
    "fig_topic_per_class.write_html(\"topics_per_class.html\")"
   ]
  }
 ],
 "metadata": {
  "colab": {
   "provenance": []
  },
  "kernelspec": {
   "display_name": "3.12.0",
   "language": "python",
   "name": "python3"
  },
  "language_info": {
   "codemirror_mode": {
    "name": "ipython",
    "version": 3
   },
   "file_extension": ".py",
   "mimetype": "text/x-python",
   "name": "python",
   "nbconvert_exporter": "python",
   "pygments_lexer": "ipython3",
   "version": "3.12.0"
  },
  "orig_nbformat": 4
 },
 "nbformat": 4,
 "nbformat_minor": 0
}
