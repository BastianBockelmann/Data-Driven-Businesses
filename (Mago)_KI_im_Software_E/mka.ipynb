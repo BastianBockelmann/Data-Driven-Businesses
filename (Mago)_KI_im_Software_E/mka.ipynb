{
 "cells": [
  {
   "cell_type": "code",
   "execution_count": 3,
   "metadata": {
    "colab": {
     "base_uri": "https://localhost:8080/",
     "height": 706
    },
    "executionInfo": {
     "elapsed": 857,
     "status": "ok",
     "timestamp": 1697443265451,
     "user": {
      "displayName": "Mr. Ben",
      "userId": "14464510081174440893"
     },
     "user_tz": -120
    },
    "id": "2hNN7WALjFYW",
    "outputId": "c4c7fcee-ca88-453b-fb35-3925a74950cf"
   },
   "outputs": [
    {
     "name": "stderr",
     "output_type": "stream",
     "text": [
      "/Users/mago/.pyenv/versions/3.12.0/lib/python3.12/site-packages/tqdm/auto.py:21: TqdmWarning: IProgress not found. Please update jupyter and ipywidgets. See https://ipywidgets.readthedocs.io/en/stable/user_install.html\n",
      "  from .autonotebook import tqdm as notebook_tqdm\n",
      "/Users/mago/.pyenv/versions/3.12.0/lib/python3.12/site-packages/transformers/utils/generic.py:441: FutureWarning: `torch.utils._pytree._register_pytree_node` is deprecated. Please use `torch.utils._pytree.register_pytree_node` instead.\n",
      "  _torch_pytree._register_pytree_node(\n",
      "/Users/mago/.pyenv/versions/3.12.0/lib/python3.12/site-packages/transformers/utils/generic.py:309: FutureWarning: `torch.utils._pytree._register_pytree_node` is deprecated. Please use `torch.utils._pytree.register_pytree_node` instead.\n",
      "  _torch_pytree._register_pytree_node(\n"
     ]
    }
   ],
   "source": [
    "import pandas as pd\n",
    "import altair as alt\n",
    "\n",
    "import pandas as pd\n",
    "from umap import UMAP\n",
    "from hdbscan import HDBSCAN\n",
    "from sentence_transformers import SentenceTransformer\n",
    "from sklearn.feature_extraction.text import CountVectorizer\n",
    "\n",
    "from bertopic import BERTopic\n",
    "from bertopic.representation import KeyBERTInspired\n",
    "from bertopic.vectorizers import ClassTfidfTransformer\n",
    "\n",
    "alt.data_transformers.disable_max_rows()\n",
    "\n",
    "# Daten laden\n",
    "df = pd.read_csv('AI_Related_Papers_Cleaned.csv')\n"
   ]
  },
  {
   "cell_type": "code",
   "execution_count": 4,
   "metadata": {
    "executionInfo": {
     "elapsed": 31,
     "status": "ok",
     "timestamp": 1697443367986,
     "user": {
      "displayName": "Mr. Ben",
      "userId": "14464510081174440893"
     },
     "user_tz": -120
    },
    "id": "ErdCJCWekPLD"
   },
   "outputs": [],
   "source": [
    "docs = df[\"Abstract\"].to_list()\n",
    "assert len(docs) == len(df)"
   ]
  },
  {
   "cell_type": "code",
   "execution_count": 21,
   "metadata": {
    "id": "GyVoQAtgjFYd"
   },
   "outputs": [
    {
     "data": {
      "text/plain": [
       "<bertopic._bertopic.BERTopic at 0x361fdad50>"
      ]
     },
     "execution_count": 21,
     "metadata": {},
     "output_type": "execute_result"
    }
   ],
   "source": [
    "# Step 1 - Extract embeddings\n",
    "embedding_model = SentenceTransformer(\"all-MiniLM-L6-v2\")\n",
    "\n",
    "# Step 2 - Reduce dimensionality\n",
    "umap_model = UMAP(\n",
    "    n_neighbors=10,\n",
    "    n_components=2,\n",
    "    min_dist=0.0,\n",
    "    metric='cosine',\n",
    "    random_state=42 #Optional\n",
    "    )\n",
    "\n",
    "# Step 3 - Cluster reduced embeddings\n",
    "hdbscan_model = HDBSCAN(\n",
    "    min_cluster_size=5,\n",
    "    metric='euclidean',\n",
    "    cluster_selection_method='eom',\n",
    "    prediction_data=True\n",
    "    )\n",
    "\n",
    "# Step 4 - Tokenize topics\n",
    "vectorizer_model = CountVectorizer(stop_words=[])\n",
    "\n",
    "# Step 5 - Create topic representation\n",
    "ctfidf_model = ClassTfidfTransformer()\n",
    "\n",
    "# Step 6 - (Optional) Fine-tune topic representations with\n",
    "# a `bertopic.representation` model\n",
    "representation_model = KeyBERTInspired()\n",
    "\n",
    "# All steps together\n",
    "topic_model = BERTopic(\n",
    "    # Step 1 - Extract embeddings\n",
    "    embedding_model=embedding_model,\n",
    "    # Step 2 - Reduce dimensionality\n",
    "    umap_model=umap_model,\n",
    "    # Step 3 - Cluster reduced embeddings\n",
    "    hdbscan_model=hdbscan_model,\n",
    "    # Step 4 - Tokenize topics\n",
    "    vectorizer_model=vectorizer_model,\n",
    "    # Step 5 - Extract topic words\n",
    "    ctfidf_model=ctfidf_model,\n",
    "    # Step 6 - (Optional) Fine-tune topic represenations\n",
    "    representation_model=representation_model\n",
    ")\n",
    "\n",
    "topics, probs = topic_model.fit_transform(docs)\n",
    "\n",
    "# Dann auf Top 10 reduzieren\n",
    "topic_model.reduce_topics(docs, nr_topics=11)"
   ]
  },
  {
   "cell_type": "code",
   "execution_count": 22,
   "metadata": {
    "colab": {
     "base_uri": "https://localhost:8080/",
     "height": 331
    },
    "executionInfo": {
     "elapsed": 31,
     "status": "ok",
     "timestamp": 1697443395788,
     "user": {
      "displayName": "Mr. Ben",
      "userId": "14464510081174440893"
     },
     "user_tz": -120
    },
    "id": "xjXhaxSejFYe",
    "outputId": "0ef74aaa-1c2e-455b-bee9-2e2a4dc6eb56"
   },
   "outputs": [
    {
     "data": {
      "text/html": [
       "<div>\n",
       "<style scoped>\n",
       "    .dataframe tbody tr th:only-of-type {\n",
       "        vertical-align: middle;\n",
       "    }\n",
       "\n",
       "    .dataframe tbody tr th {\n",
       "        vertical-align: top;\n",
       "    }\n",
       "\n",
       "    .dataframe thead th {\n",
       "        text-align: right;\n",
       "    }\n",
       "</style>\n",
       "<table border=\"1\" class=\"dataframe\">\n",
       "  <thead>\n",
       "    <tr style=\"text-align: right;\">\n",
       "      <th></th>\n",
       "      <th>Topic</th>\n",
       "      <th>Count</th>\n",
       "      <th>Name</th>\n",
       "      <th>Representation</th>\n",
       "      <th>Representative_Docs</th>\n",
       "    </tr>\n",
       "  </thead>\n",
       "  <tbody>\n",
       "    <tr>\n",
       "      <th>0</th>\n",
       "      <td>-1</td>\n",
       "      <td>171</td>\n",
       "      <td>-1_software_faults_developers_tools</td>\n",
       "      <td>[software, faults, developers, tools, programs...</td>\n",
       "      <td>[On-board embedded software developed for spac...</td>\n",
       "    </tr>\n",
       "    <tr>\n",
       "      <th>1</th>\n",
       "      <td>0</td>\n",
       "      <td>198</td>\n",
       "      <td>0_code_program_software_patches</td>\n",
       "      <td>[code, program, software, patches, automated, ...</td>\n",
       "      <td>[Automated program repair is the problem of au...</td>\n",
       "    </tr>\n",
       "    <tr>\n",
       "      <th>2</th>\n",
       "      <td>1</td>\n",
       "      <td>85</td>\n",
       "      <td>1_adversarial_vulnerabilities_vulnerability_vu...</td>\n",
       "      <td>[adversarial, vulnerabilities, vulnerability, ...</td>\n",
       "      <td>[Deep learning (DL) plays a more and more impo...</td>\n",
       "    </tr>\n",
       "    <tr>\n",
       "      <th>3</th>\n",
       "      <td>2</td>\n",
       "      <td>65</td>\n",
       "      <td>2_maintainability_software_reliability_mainten...</td>\n",
       "      <td>[maintainability, software, reliability, maint...</td>\n",
       "      <td>[In software reliability modeling, the paramet...</td>\n",
       "    </tr>\n",
       "    <tr>\n",
       "      <th>4</th>\n",
       "      <td>3</td>\n",
       "      <td>29</td>\n",
       "      <td>3_testing_coverage_test_faults</td>\n",
       "      <td>[testing, coverage, test, faults, mutants, mut...</td>\n",
       "      <td>[The test case generation is intrinsically a m...</td>\n",
       "    </tr>\n",
       "    <tr>\n",
       "      <th>5</th>\n",
       "      <td>4</td>\n",
       "      <td>26</td>\n",
       "      <td>4_metamodels_metamodel_modeling_specification</td>\n",
       "      <td>[metamodels, metamodel, modeling, specificatio...</td>\n",
       "      <td>[Formal methods and supporting tools have a lo...</td>\n",
       "    </tr>\n",
       "    <tr>\n",
       "      <th>6</th>\n",
       "      <td>5</td>\n",
       "      <td>23</td>\n",
       "      <td>5_apps_android_app_gui</td>\n",
       "      <td>[apps, android, app, gui, guis, mobile, runtim...</td>\n",
       "      <td>[Web applications are widely adopted and their...</td>\n",
       "    </tr>\n",
       "    <tr>\n",
       "      <th>7</th>\n",
       "      <td>6</td>\n",
       "      <td>22</td>\n",
       "      <td>6_concurrency_scheduling_protocols_deadlocks</td>\n",
       "      <td>[concurrency, scheduling, protocols, deadlocks...</td>\n",
       "      <td>[In this paper, we describe Teapot, a domain-s...</td>\n",
       "    </tr>\n",
       "    <tr>\n",
       "      <th>8</th>\n",
       "      <td>7</td>\n",
       "      <td>9</td>\n",
       "      <td>7_markovian_markov_stochastic_probabilistic</td>\n",
       "      <td>[markovian, markov, stochastic, probabilistic,...</td>\n",
       "      <td>[Equivalence relations can be used to reduce t...</td>\n",
       "    </tr>\n",
       "    <tr>\n",
       "      <th>9</th>\n",
       "      <td>8</td>\n",
       "      <td>8</td>\n",
       "      <td>8_programming_programmers_developers_collabora...</td>\n",
       "      <td>[programming, programmers, developers, collabo...</td>\n",
       "      <td>[Pair Programming is one of the most studied a...</td>\n",
       "    </tr>\n",
       "    <tr>\n",
       "      <th>10</th>\n",
       "      <td>9</td>\n",
       "      <td>6</td>\n",
       "      <td>9_icse_conference_2022_ieee</td>\n",
       "      <td>[icse, conference, 2022, ieee, 2023, acm, 2024...</td>\n",
       "      <td>[What's new with ICSE 2022 ICSE 2022 is here! ...</td>\n",
       "    </tr>\n",
       "  </tbody>\n",
       "</table>\n",
       "</div>"
      ],
      "text/plain": [
       "    Topic  Count                                               Name  \\\n",
       "0      -1    171                -1_software_faults_developers_tools   \n",
       "1       0    198                    0_code_program_software_patches   \n",
       "2       1     85  1_adversarial_vulnerabilities_vulnerability_vu...   \n",
       "3       2     65  2_maintainability_software_reliability_mainten...   \n",
       "4       3     29                     3_testing_coverage_test_faults   \n",
       "5       4     26      4_metamodels_metamodel_modeling_specification   \n",
       "6       5     23                             5_apps_android_app_gui   \n",
       "7       6     22       6_concurrency_scheduling_protocols_deadlocks   \n",
       "8       7      9        7_markovian_markov_stochastic_probabilistic   \n",
       "9       8      8  8_programming_programmers_developers_collabora...   \n",
       "10      9      6                        9_icse_conference_2022_ieee   \n",
       "\n",
       "                                       Representation  \\\n",
       "0   [software, faults, developers, tools, programs...   \n",
       "1   [code, program, software, patches, automated, ...   \n",
       "2   [adversarial, vulnerabilities, vulnerability, ...   \n",
       "3   [maintainability, software, reliability, maint...   \n",
       "4   [testing, coverage, test, faults, mutants, mut...   \n",
       "5   [metamodels, metamodel, modeling, specificatio...   \n",
       "6   [apps, android, app, gui, guis, mobile, runtim...   \n",
       "7   [concurrency, scheduling, protocols, deadlocks...   \n",
       "8   [markovian, markov, stochastic, probabilistic,...   \n",
       "9   [programming, programmers, developers, collabo...   \n",
       "10  [icse, conference, 2022, ieee, 2023, acm, 2024...   \n",
       "\n",
       "                                  Representative_Docs  \n",
       "0   [On-board embedded software developed for spac...  \n",
       "1   [Automated program repair is the problem of au...  \n",
       "2   [Deep learning (DL) plays a more and more impo...  \n",
       "3   [In software reliability modeling, the paramet...  \n",
       "4   [The test case generation is intrinsically a m...  \n",
       "5   [Formal methods and supporting tools have a lo...  \n",
       "6   [Web applications are widely adopted and their...  \n",
       "7   [In this paper, we describe Teapot, a domain-s...  \n",
       "8   [Equivalence relations can be used to reduce t...  \n",
       "9   [Pair Programming is one of the most studied a...  \n",
       "10  [What's new with ICSE 2022 ICSE 2022 is here! ...  "
      ]
     },
     "execution_count": 22,
     "metadata": {},
     "output_type": "execute_result"
    }
   ],
   "source": [
    "topic_model.get_topic_info()"
   ]
  },
  {
   "cell_type": "code",
   "execution_count": 23,
   "metadata": {
    "executionInfo": {
     "elapsed": 12,
     "status": "ok",
     "timestamp": 1697443395789,
     "user": {
      "displayName": "Mr. Ben",
      "userId": "14464510081174440893"
     },
     "user_tz": -120
    },
    "id": "cfTcUTyxjFYe"
   },
   "outputs": [],
   "source": [
    "topics_per_doc = topic_model.get_document_info(docs)\n",
    "reprsentative_docs_0 = topics_per_doc[\n",
    "    (topics_per_doc[\"Representative_document\"] == True) &\n",
    "    (topics_per_doc[\"Topic\"] == 0)\n",
    "    ]"
   ]
  },
  {
   "cell_type": "code",
   "execution_count": 24,
   "metadata": {
    "colab": {
     "base_uri": "https://localhost:8080/",
     "height": 817
    },
    "executionInfo": {
     "elapsed": 9507,
     "status": "ok",
     "timestamp": 1697443405284,
     "user": {
      "displayName": "Mr. Ben",
      "userId": "14464510081174440893"
     },
     "user_tz": -120
    },
    "id": "lr9D6ErVjFYe",
    "outputId": "632b77be-16d5-4f78-cb94-e28f1e53b86d"
   },
   "outputs": [],
   "source": [
    "# Visualisierung erstellen\n",
    "fig = topic_model.visualize_documents(\n",
    "    docs,\n",
    "    topics=list(range(-1, len(topic_model.get_topics())-1)),  # Beginnt bei -1\n",
    "    width=1200,\n",
    "    height=1000\n",
    ")\n",
    "\n",
    "# Als HTML-Datei speichern\n",
    "fig.write_html(\"topic_visualization.html\")"
   ]
  },
  {
   "cell_type": "code",
   "execution_count": 25,
   "metadata": {
    "colab": {
     "base_uri": "https://localhost:8080/"
    },
    "executionInfo": {
     "elapsed": 12,
     "status": "ok",
     "timestamp": 1697443405285,
     "user": {
      "displayName": "Mr. Ben",
      "userId": "14464510081174440893"
     },
     "user_tz": -120
    },
    "id": "aPTZv-IujFYf",
    "outputId": "d19757c3-61a4-4bd4-d401-eeefbcb8c486"
   },
   "outputs": [
    {
     "name": "stdout",
     "output_type": "stream",
     "text": [
      "Mittelwert: 207.33177570093457, Maximum: 413\n"
     ]
    }
   ],
   "source": [
    "reviews = df[\"Abstract\"]\n",
    "\n",
    "mean = reviews.str.split().apply(len).mean()\n",
    "max = reviews.str.split().apply(len).max()\n",
    "\n",
    "print(f\"\"\"Mittelwert: {mean}, Maximum: {max}\"\"\")"
   ]
  },
  {
   "cell_type": "code",
   "execution_count": 26,
   "metadata": {
    "colab": {
     "base_uri": "https://localhost:8080/",
     "height": 617
    },
    "executionInfo": {
     "elapsed": 973,
     "status": "ok",
     "timestamp": 1697443406249,
     "user": {
      "displayName": "Mr. Ben",
      "userId": "14464510081174440893"
     },
     "user_tz": -120
    },
    "id": "vvMOtIfCMO7n",
    "outputId": "9cabaf3b-526d-4e1c-8f2b-58e28aa67336"
   },
   "outputs": [],
   "source": [
    "# Visualisierung der Topic-Interdistanzen erstellen\n",
    "fig_interdistance_topic = topic_model.visualize_topics(\n",
    "    width=850,\n",
    "    height=650\n",
    ")\n",
    "\n",
    "# Als HTML-Datei speichern\n",
    "fig_interdistance_topic.write_html(\"topic_interdistance.html\")"
   ]
  },
  {
   "cell_type": "code",
   "execution_count": 27,
   "metadata": {
    "colab": {
     "base_uri": "https://localhost:8080/",
     "height": 517
    },
    "executionInfo": {
     "elapsed": 22,
     "status": "ok",
     "timestamp": 1697443406249,
     "user": {
      "displayName": "Mr. Ben",
      "userId": "14464510081174440893"
     },
     "user_tz": -120
    },
    "id": "B3jcLyo1ivFl",
    "outputId": "bb3cd857-6cfb-49ce-b42f-331a9f481075"
   },
   "outputs": [],
   "source": [
    "# Balkendiagramm erstellen\n",
    "fig_barchart = topic_model.visualize_barchart()\n",
    "\n",
    "# Als HTML-Datei speichern\n",
    "fig_barchart.write_html(\"topic_barchart.html\")"
   ]
  },
  {
   "cell_type": "code",
   "execution_count": 28,
   "metadata": {
    "colab": {
     "base_uri": "https://localhost:8080/",
     "height": 717
    },
    "executionInfo": {
     "elapsed": 18,
     "status": "ok",
     "timestamp": 1697443406250,
     "user": {
      "displayName": "Mr. Ben",
      "userId": "14464510081174440893"
     },
     "user_tz": -120
    },
    "id": "0_VzqpwCN4gM",
    "outputId": "f0c29fb0-4af9-47f6-cab6-5ac119bfcc9a"
   },
   "outputs": [],
   "source": [
    "# Heatmap erstellen\n",
    "fig_heatmap = topic_model.visualize_heatmap(\n",
    "    n_clusters=3,\n",
    "    width=700,\n",
    "    height=700\n",
    ")\n",
    "\n",
    "# Als HTML-Datei speichern\n",
    "fig_heatmap.write_html(\"topic_heatmap.html\")"
   ]
  },
  {
   "cell_type": "code",
   "execution_count": 29,
   "metadata": {
    "colab": {
     "base_uri": "https://localhost:8080/",
     "height": 467
    },
    "executionInfo": {
     "elapsed": 17638,
     "status": "ok",
     "timestamp": 1697443423873,
     "user": {
      "displayName": "Mr. Ben",
      "userId": "14464510081174440893"
     },
     "user_tz": -120
    },
    "id": "9ehgdtO7S4tJ",
    "outputId": "1148f485-7acc-474e-a114-1e0bf3896f79"
   },
   "outputs": [],
   "source": [
    "# Zeitstempel extrahieren\n",
    "timestamps = df[\"Publication Year\"].to_list()\n",
    "\n",
    "# Topics über Zeit berechnen\n",
    "topics_over_time = topic_model.topics_over_time(docs, timestamps)\n",
    "\n",
    "# Visualisierung erstellen\n",
    "fig_topic_over_time = topic_model.visualize_topics_over_time(\n",
    "    topics_over_time,\n",
    "    width=1000\n",
    ")\n",
    "\n",
    "# Als HTML-Datei speichern\n",
    "fig_topic_over_time.write_html(\"topics_over_time.html\")"
   ]
  }
 ],
 "metadata": {
  "colab": {
   "provenance": []
  },
  "kernelspec": {
   "display_name": "3.12.0",
   "language": "python",
   "name": "python3"
  },
  "language_info": {
   "codemirror_mode": {
    "name": "ipython",
    "version": 3
   },
   "file_extension": ".py",
   "mimetype": "text/x-python",
   "name": "python",
   "nbconvert_exporter": "python",
   "pygments_lexer": "ipython3",
   "version": "3.12.0"
  },
  "orig_nbformat": 4
 },
 "nbformat": 4,
 "nbformat_minor": 0
}
