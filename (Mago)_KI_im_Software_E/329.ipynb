{
 "cells": [
  {
   "cell_type": "code",
   "execution_count": 1,
   "metadata": {
    "colab": {
     "base_uri": "https://localhost:8080/",
     "height": 706
    },
    "executionInfo": {
     "elapsed": 857,
     "status": "ok",
     "timestamp": 1697443265451,
     "user": {
      "displayName": "Mr. Ben",
      "userId": "14464510081174440893"
     },
     "user_tz": -120
    },
    "id": "2hNN7WALjFYW",
    "outputId": "c4c7fcee-ca88-453b-fb35-3925a74950cf"
   },
   "outputs": [
    {
     "ename": "ImportError",
     "evalue": "Unable to import required dependencies:\nnumpy: No module named 'numpy'",
     "output_type": "error",
     "traceback": [
      "\u001b[0;31m---------------------------------------------------------------------------\u001b[0m",
      "\u001b[0;31mImportError\u001b[0m                               Traceback (most recent call last)",
      "Cell \u001b[0;32mIn[1], line 1\u001b[0m\n\u001b[0;32m----> 1\u001b[0m \u001b[38;5;28;01mimport\u001b[39;00m \u001b[38;5;21;01mpandas\u001b[39;00m \u001b[38;5;28;01mas\u001b[39;00m \u001b[38;5;21;01mpd\u001b[39;00m\n\u001b[1;32m      2\u001b[0m \u001b[38;5;28;01mimport\u001b[39;00m \u001b[38;5;21;01maltair\u001b[39;00m \u001b[38;5;28;01mas\u001b[39;00m \u001b[38;5;21;01malt\u001b[39;00m\n\u001b[1;32m      4\u001b[0m \u001b[38;5;28;01mimport\u001b[39;00m \u001b[38;5;21;01mpandas\u001b[39;00m \u001b[38;5;28;01mas\u001b[39;00m \u001b[38;5;21;01mpd\u001b[39;00m\n",
      "File \u001b[0;32m/Library/Frameworks/Python.framework/Versions/3.13/lib/python3.13/site-packages/pandas/__init__.py:19\u001b[0m\n\u001b[1;32m     16\u001b[0m         _missing_dependencies\u001b[38;5;241m.\u001b[39mappend(\u001b[38;5;124mf\u001b[39m\u001b[38;5;124m\"\u001b[39m\u001b[38;5;132;01m{\u001b[39;00m_dependency\u001b[38;5;132;01m}\u001b[39;00m\u001b[38;5;124m: \u001b[39m\u001b[38;5;132;01m{\u001b[39;00m_e\u001b[38;5;132;01m}\u001b[39;00m\u001b[38;5;124m\"\u001b[39m)\n\u001b[1;32m     18\u001b[0m \u001b[38;5;28;01mif\u001b[39;00m _missing_dependencies:  \u001b[38;5;66;03m# pragma: no cover\u001b[39;00m\n\u001b[0;32m---> 19\u001b[0m     \u001b[38;5;28;01mraise\u001b[39;00m \u001b[38;5;167;01mImportError\u001b[39;00m(\n\u001b[1;32m     20\u001b[0m         \u001b[38;5;124m\"\u001b[39m\u001b[38;5;124mUnable to import required dependencies:\u001b[39m\u001b[38;5;130;01m\\n\u001b[39;00m\u001b[38;5;124m\"\u001b[39m \u001b[38;5;241m+\u001b[39m \u001b[38;5;124m\"\u001b[39m\u001b[38;5;130;01m\\n\u001b[39;00m\u001b[38;5;124m\"\u001b[39m\u001b[38;5;241m.\u001b[39mjoin(_missing_dependencies)\n\u001b[1;32m     21\u001b[0m     )\n\u001b[1;32m     22\u001b[0m \u001b[38;5;28;01mdel\u001b[39;00m _hard_dependencies, _dependency, _missing_dependencies\n\u001b[1;32m     24\u001b[0m \u001b[38;5;28;01mtry\u001b[39;00m:\n\u001b[1;32m     25\u001b[0m     \u001b[38;5;66;03m# numpy compat\u001b[39;00m\n",
      "\u001b[0;31mImportError\u001b[0m: Unable to import required dependencies:\nnumpy: No module named 'numpy'"
     ]
    }
   ],
   "source": [
    "import pandas as pd\n",
    "import altair as alt\n",
    "\n",
    "import pandas as pd\n",
    "from umap import UMAP\n",
    "from hdbscan import HDBSCAN\n",
    "from sentence_transformers import SentenceTransformer\n",
    "from sklearn.feature_extraction.text import CountVectorizer\n",
    "\n",
    "from bertopic import BERTopic\n",
    "from bertopic.representation import KeyBERTInspired\n",
    "from bertopic.vectorizers import ClassTfidfTransformer\n",
    "\n",
    "alt.data_transformers.disable_max_rows()\n",
    "\n",
    "# Daten laden\n",
    "df = pd.read_csv('Data/Dataset.csv')\n"
   ]
  },
  {
   "cell_type": "code",
   "execution_count": null,
   "metadata": {
    "colab": {
     "base_uri": "https://localhost:8080/"
    },
    "executionInfo": {
     "elapsed": 39,
     "status": "ok",
     "timestamp": 1697443265453,
     "user": {
      "displayName": "Mr. Ben",
      "userId": "14464510081174440893"
     },
     "user_tz": -120
    },
    "id": "wj0vdZ_tjFYc",
    "outputId": "cb7df833-1aa5-4fd3-9e03-9d01ed43ee35"
   },
   "outputs": [],
   "source": [
    "# Löschen von Zeilen mit fehlenden Werten\n",
    "#df.dropna(subset=['Abstract', 'Publication Year'], inplace=True)"
   ]
  },
  {
   "cell_type": "code",
   "execution_count": null,
   "metadata": {
    "executionInfo": {
     "elapsed": 31,
     "status": "ok",
     "timestamp": 1697443367986,
     "user": {
      "displayName": "Mr. Ben",
      "userId": "14464510081174440893"
     },
     "user_tz": -120
    },
    "id": "ErdCJCWekPLD"
   },
   "outputs": [],
   "source": [
    "docs = df[\"Abstract\"].to_list()\n",
    "assert len(docs) == len(df)"
   ]
  },
  {
   "cell_type": "code",
   "execution_count": null,
   "metadata": {
    "id": "GyVoQAtgjFYd"
   },
   "outputs": [],
   "source": [
    "# Step 1 - Extract embeddings\n",
    "embedding_model = SentenceTransformer(\"all-MiniLM-L6-v2\")\n",
    "\n",
    "# Step 2 - Reduce dimensionality\n",
    "umap_model = UMAP(\n",
    "    n_neighbors=10,\n",
    "    n_components=2,\n",
    "    min_dist=0.0,\n",
    "    metric='cosine',\n",
    "    random_state=42 #Optional\n",
    "    )\n",
    "\n",
    "# Step 3 - Cluster reduced embeddings\n",
    "hdbscan_model = HDBSCAN(\n",
    "    min_cluster_size=5,\n",
    "    metric='euclidean',\n",
    "    cluster_selection_method='eom',\n",
    "    prediction_data=True\n",
    "    )\n",
    "\n",
    "# Step 4 - Tokenize topics\n",
    "vectorizer_model = CountVectorizer(stop_words=[])\n",
    "\n",
    "# Step 5 - Create topic representation\n",
    "ctfidf_model = ClassTfidfTransformer()\n",
    "\n",
    "# Step 6 - (Optional) Fine-tune topic representations with\n",
    "# a `bertopic.representation` model\n",
    "representation_model = KeyBERTInspired()\n",
    "\n",
    "# All steps together\n",
    "topic_model = BERTopic(\n",
    "    # Step 1 - Extract embeddings\n",
    "    embedding_model=embedding_model,\n",
    "    # Step 2 - Reduce dimensionality\n",
    "    umap_model=umap_model,\n",
    "    # Step 3 - Cluster reduced embeddings\n",
    "    hdbscan_model=hdbscan_model,\n",
    "    # Step 4 - Tokenize topics\n",
    "    vectorizer_model=vectorizer_model,\n",
    "    # Step 5 - Extract topic words\n",
    "    ctfidf_model=ctfidf_model,\n",
    "    # Step 6 - (Optional) Fine-tune topic represenations\n",
    "    representation_model=representation_model\n",
    ")\n",
    "\n",
    "topics, probs = topic_model.fit_transform(docs)"
   ]
  },
  {
   "cell_type": "code",
   "execution_count": null,
   "metadata": {
    "colab": {
     "base_uri": "https://localhost:8080/",
     "height": 331
    },
    "executionInfo": {
     "elapsed": 31,
     "status": "ok",
     "timestamp": 1697443395788,
     "user": {
      "displayName": "Mr. Ben",
      "userId": "14464510081174440893"
     },
     "user_tz": -120
    },
    "id": "xjXhaxSejFYe",
    "outputId": "0ef74aaa-1c2e-455b-bee9-2e2a4dc6eb56"
   },
   "outputs": [],
   "source": [
    "topic_model.get_topic_info()"
   ]
  },
  {
   "cell_type": "code",
   "execution_count": null,
   "metadata": {
    "executionInfo": {
     "elapsed": 12,
     "status": "ok",
     "timestamp": 1697443395789,
     "user": {
      "displayName": "Mr. Ben",
      "userId": "14464510081174440893"
     },
     "user_tz": -120
    },
    "id": "cfTcUTyxjFYe"
   },
   "outputs": [],
   "source": [
    "topics_per_doc = topic_model.get_document_info(docs)\n",
    "reprsentative_docs_0 = topics_per_doc[\n",
    "    (topics_per_doc[\"Representative_document\"] == True) &\n",
    "    (topics_per_doc[\"Topic\"] == 0)\n",
    "    ]"
   ]
  },
  {
   "cell_type": "code",
   "execution_count": null,
   "metadata": {
    "colab": {
     "base_uri": "https://localhost:8080/",
     "height": 817
    },
    "executionInfo": {
     "elapsed": 9507,
     "status": "ok",
     "timestamp": 1697443405284,
     "user": {
      "displayName": "Mr. Ben",
      "userId": "14464510081174440893"
     },
     "user_tz": -120
    },
    "id": "lr9D6ErVjFYe",
    "outputId": "632b77be-16d5-4f78-cb94-e28f1e53b86d"
   },
   "outputs": [],
   "source": [
    "fig = topic_model.visualize_documents(\n",
    "    docs,\n",
    "    width=800,\n",
    "    height=800\n",
    "    )\n",
    "fig.show()"
   ]
  },
  {
   "cell_type": "code",
   "execution_count": null,
   "metadata": {
    "colab": {
     "base_uri": "https://localhost:8080/"
    },
    "executionInfo": {
     "elapsed": 12,
     "status": "ok",
     "timestamp": 1697443405285,
     "user": {
      "displayName": "Mr. Ben",
      "userId": "14464510081174440893"
     },
     "user_tz": -120
    },
    "id": "aPTZv-IujFYf",
    "outputId": "d19757c3-61a4-4bd4-d401-eeefbcb8c486"
   },
   "outputs": [],
   "source": [
    "reviews = df[\"Abstract\"]\n",
    "\n",
    "mean = reviews.str.split().apply(len).mean()\n",
    "max = reviews.str.split().apply(len).max()\n",
    "\n",
    "print(f\"\"\"Mittelwert: {mean}, Maximum: {max}\"\"\")"
   ]
  },
  {
   "cell_type": "code",
   "execution_count": null,
   "metadata": {
    "colab": {
     "base_uri": "https://localhost:8080/",
     "height": 617
    },
    "executionInfo": {
     "elapsed": 973,
     "status": "ok",
     "timestamp": 1697443406249,
     "user": {
      "displayName": "Mr. Ben",
      "userId": "14464510081174440893"
     },
     "user_tz": -120
    },
    "id": "vvMOtIfCMO7n",
    "outputId": "9cabaf3b-526d-4e1c-8f2b-58e28aa67336"
   },
   "outputs": [],
   "source": [
    "fig_interdistance_topic = topic_model.visualize_topics(\n",
    "    width = 800,\n",
    "    height = 600)\n",
    "fig_interdistance_topic"
   ]
  },
  {
   "cell_type": "code",
   "execution_count": null,
   "metadata": {
    "colab": {
     "base_uri": "https://localhost:8080/",
     "height": 517
    },
    "executionInfo": {
     "elapsed": 22,
     "status": "ok",
     "timestamp": 1697443406249,
     "user": {
      "displayName": "Mr. Ben",
      "userId": "14464510081174440893"
     },
     "user_tz": -120
    },
    "id": "B3jcLyo1ivFl",
    "outputId": "bb3cd857-6cfb-49ce-b42f-331a9f481075"
   },
   "outputs": [],
   "source": [
    "topic_model.visualize_barchart()"
   ]
  },
  {
   "cell_type": "code",
   "execution_count": null,
   "metadata": {
    "colab": {
     "base_uri": "https://localhost:8080/",
     "height": 717
    },
    "executionInfo": {
     "elapsed": 18,
     "status": "ok",
     "timestamp": 1697443406250,
     "user": {
      "displayName": "Mr. Ben",
      "userId": "14464510081174440893"
     },
     "user_tz": -120
    },
    "id": "0_VzqpwCN4gM",
    "outputId": "f0c29fb0-4af9-47f6-cab6-5ac119bfcc9a"
   },
   "outputs": [],
   "source": [
    "fig_heatmap = topic_model.visualize_heatmap(\n",
    "    n_clusters=3,\n",
    "    width = 700,\n",
    "    height = 700\n",
    "    )\n",
    "fig_heatmap"
   ]
  },
  {
   "cell_type": "code",
   "execution_count": null,
   "metadata": {
    "colab": {
     "base_uri": "https://localhost:8080/",
     "height": 467
    },
    "executionInfo": {
     "elapsed": 17638,
     "status": "ok",
     "timestamp": 1697443423873,
     "user": {
      "displayName": "Mr. Ben",
      "userId": "14464510081174440893"
     },
     "user_tz": -120
    },
    "id": "9ehgdtO7S4tJ",
    "outputId": "1148f485-7acc-474e-a114-1e0bf3896f79"
   },
   "outputs": [],
   "source": [
    "timestamps = df[\"Publication Year\"].to_list()\n",
    "\n",
    "topics_over_time = topic_model.topics_over_time(docs, timestamps)\n",
    "\n",
    "fig_topic_over_time = topic_model.visualize_topics_over_time(\n",
    "    topics_over_time,\n",
    "    width = 1000)\n",
    "fig_topic_over_time"
   ]
  },
  {
   "cell_type": "code",
   "execution_count": null,
   "metadata": {
    "colab": {
     "base_uri": "https://localhost:8080/"
    },
    "executionInfo": {
     "elapsed": 15,
     "status": "ok",
     "timestamp": 1697443423874,
     "user": {
      "displayName": "Mr. Ben",
      "userId": "14464510081174440893"
     },
     "user_tz": -120
    },
    "id": "YbR4JpWQr5Yz",
    "outputId": "58f0a598-eb86-455d-cf58-284f3d3bd456"
   },
   "outputs": [],
   "source": [
    "timestamps.sort()\n",
    "print(timestamps)"
   ]
  },
  {
   "cell_type": "code",
   "execution_count": null,
   "metadata": {
    "colab": {
     "base_uri": "https://localhost:8080/",
     "height": 1000
    },
    "executionInfo": {
     "elapsed": 111707,
     "status": "ok",
     "timestamp": 1697446466749,
     "user": {
      "displayName": "Mr. Ben",
      "userId": "14464510081174440893"
     },
     "user_tz": -120
    },
    "id": "D2mRyKfyTUx_",
    "outputId": "2f19b880-e583-40a1-91aa-4dbf124cd94c"
   },
   "outputs": [],
   "source": [
    "classes = df[\"Title\"].to_list()\n",
    "topics_per_classes = topic_model.topics_per_class(docs, classes)\n",
    "fig_topic_per_class = topic_model.visualize_topics_per_class(\n",
    "    topics_per_classes, width = 2000, height = 2000)\n",
    "fig_topic_per_class"
   ]
  },
  {
   "cell_type": "code",
   "execution_count": null,
   "metadata": {
    "executionInfo": {
     "elapsed": 12,
     "status": "aborted",
     "timestamp": 1697443424639,
     "user": {
      "displayName": "Mr. Ben",
      "userId": "14464510081174440893"
     },
     "user_tz": -120
    },
    "id": "56Pm0GltTfi4"
   },
   "outputs": [],
   "source": []
  }
 ],
 "metadata": {
  "colab": {
   "provenance": []
  },
  "kernelspec": {
   "display_name": "3.12.0",
   "language": "python",
   "name": "python3"
  },
  "language_info": {
   "codemirror_mode": {
    "name": "ipython",
    "version": 3
   },
   "file_extension": ".py",
   "mimetype": "text/x-python",
   "name": "python",
   "nbconvert_exporter": "python",
   "pygments_lexer": "ipython3",
   "version": "3.12.0"
  },
  "orig_nbformat": 4
 },
 "nbformat": 4,
 "nbformat_minor": 0
}
