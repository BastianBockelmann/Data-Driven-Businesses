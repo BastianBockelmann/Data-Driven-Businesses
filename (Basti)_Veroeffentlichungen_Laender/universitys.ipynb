{
 "cells": [
  {
   "cell_type": "code",
   "execution_count": null,
   "metadata": {},
   "outputs": [
    {
     "ename": "",
     "evalue": "",
     "output_type": "error",
     "traceback": [
      "\u001b[1;31mThe kernel failed to start as the Python Environment '.venv (Python -1.-1.-1)' is no longer available. Consider selecting another kernel or refreshing the list of Python Environments."
     ]
    }
   ],
   "source": [
    "import pandas as pd\n",
    "import matplotlib.pyplot as plt\n",
    "from collections import Counter\n",
    "import os\n",
    "import re\n",
    "\n",
    "# Den Pfad zur CSV-Datei definieren (angenommen, sie liegt im 'data'-Ordner deines Projekts)\n",
    "csv_file_path = os.path.join(os.getcwd(), '..', 'Data', 'test_dataset.csv')\n",
    "\n",
    "# CSV-Datei einlesen\n",
    "df = pd.read_csv(csv_file_path)\n",
    "\n",
    "# Zeige eine Vorschau der Affiliations\n",
    "print(\"Vorschau der Affiliations:\")\n",
    "print(df[\"Author Affiliations\"].head())\n",
    "\n",
    "# Funktion zur verbesserten Extraktion von Universitäten\n",
    "def extract_universities_from_affiliation(affiliation):\n",
    "    # Regex, um Universitäten mit Kontext zu erfassen\n",
    "    pattern = r\"\\b(?:[A-Za-z\\s,]*University|Institute of Technology|Polytechnic|College|Academy)\\b(?:\\s*of\\s*[A-Za-z\\s,]*)?\"\n",
    "    matches = re.findall(pattern, affiliation, re.IGNORECASE)\n",
    "    return [match.strip() for match in matches if match.strip()]\n",
    "\n",
    "# Test der Funktion mit einem Beispiel\n",
    "example_affiliation = \"Empirical Software Engineering Laboratory ECE, University of Texas, Austin, USA; Department of Electrical & Computer Engineering, Stevens Institute of Technology, Hoboken, USA\"\n",
    "print(\"Extrahierte Universitäten aus Beispiel:\")\n",
    "print(extract_universities_from_affiliation(example_affiliation))\n",
    "\n",
    "# Entferne NaN-Werte aus der Spalte \"Author Affiliations\"\n",
    "affiliations = df[\"Author Affiliations\"].dropna()\n",
    "\n",
    "# Alle Universitätsnamen extrahieren\n",
    "university_list = []\n",
    "for aff in affiliations:\n",
    "    matches = extract_universities_from_affiliation(aff)\n",
    "    if matches:\n",
    "        university_list.extend(matches)\n",
    "\n",
    "# Zähle die Häufigkeiten der Universitäten\n",
    "university_counts = Counter(university_list)\n",
    "\n",
    "# Top 10 Universitäten nach Anzahl der Publikationen\n",
    "top_10_universities = university_counts.most_common(10)\n",
    "\n",
    "# In ein DataFrame umwandeln für die Visualisierung\n",
    "top_10_df = pd.DataFrame(top_10_universities, columns=[\"University\", \"Publication Count\"])\n",
    "\n",
    "# Ergebnisse ausgeben\n",
    "print(\"\\nTop 10 Universitäten mit den meisten Publikationen:\")\n",
    "print(top_10_df)\n",
    "\n",
    "# Ergebnisse visualisieren\n",
    "plt.figure(figsize=(12, 6))\n",
    "plt.bar(top_10_df[\"University\"], top_10_df[\"Publication Count\"])\n",
    "plt.title(\"Top 10 Universitäten mit den meisten Publikationen\")\n",
    "plt.xlabel(\"Universität\")\n",
    "plt.ylabel(\"Anzahl der Publikationen\")\n",
    "plt.xticks(rotation=45, ha='right')\n",
    "plt.tight_layout()\n",
    "plt.show()\n"
   ]
  }
 ],
 "metadata": {
  "kernelspec": {
   "display_name": ".venv",
   "language": "python",
   "name": "python3"
  },
  "language_info": {
   "codemirror_mode": {
    "name": "ipython",
    "version": 3
   },
   "file_extension": ".py",
   "mimetype": "text/x-python",
   "name": "python",
   "nbconvert_exporter": "python",
   "pygments_lexer": "ipython3",
   "version": "-1.-1.-1"
  }
 },
 "nbformat": 4,
 "nbformat_minor": 2
}
