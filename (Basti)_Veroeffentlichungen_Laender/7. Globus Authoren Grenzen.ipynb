{
 "cells": [
  {
   "cell_type": "code",
   "execution_count": null,
   "metadata": {},
   "outputs": [],
   "source": [
    "import pandas as pd\n",
    "import folium\n",
    "import os\n",
    "\n",
    "# URL der GeoJSON-Datei\n",
    "geojson_url = \"https://raw.githubusercontent.com/datasets/geo-countries/master/data/countries.geojson\"\n",
    "\n",
    "# Den Pfad zur CSV-Datei definieren (angenommen, sie liegt im 'Data'-Ordner deines Projekts)\n",
    "csv_file_path = os.path.join(os.getcwd(), '..', 'Data', 'Dataset.csv')\n",
    "\n",
    "# CSV-Datei einlesen\n",
    "df = pd.read_csv(csv_file_path)\n",
    "\n",
    "# Extrahiere Länder aus den Affiliations\n",
    "def extract_countries(affiliation):\n",
    "    try:\n",
    "        affiliations = affiliation.split(\";\")\n",
    "        countries = [a.split(\",\")[-1].strip() for a in affiliations]\n",
    "        return countries\n",
    "    except Exception:\n",
    "        return []\n",
    "\n",
    "df['Countries'] = df['Author Affiliations'].fillna('').apply(extract_countries)\n",
    "\n",
    "# Explodieren der Länderliste, damit jedes Land eine Zeile wird\n",
    "df_exploded = df.explode('Countries')\n",
    "\n",
    "# Anzahl der Publikationen pro Land berechnen\n",
    "country_counts = df_exploded['Countries'].value_counts().reset_index()\n",
    "country_counts.columns = ['Country', 'Publication Count']\n",
    "\n",
    "# Folium-Karte erstellen\n",
    "m = folium.Map(location=[20, 0], zoom_start=2)\n",
    "\n",
    "# Choropleth für die Publikationen\n",
    "folium.Choropleth(\n",
    "    geo_data=geojson_url,\n",
    "    name=\"choropleth\",\n",
    "    data=country_counts,\n",
    "    columns=[\"Country\", \"Publication Count\"],\n",
    "    key_on=\"feature.properties.ADMIN\",\n",
    "    fill_color=\"Blues\",\n",
    "    fill_opacity=0.7,\n",
    "    line_opacity=0.2,\n",
    "    legend_name=\"Anzahl der Publikationen\"\n",
    ").add_to(m)\n",
    "\n",
    "# Karte speichern oder anzeigen\n",
    "m.save(\"map.html\")\n",
    "m\n"
   ]
  }
 ],
 "metadata": {
  "kernelspec": {
   "display_name": "Python 3",
   "language": "python",
   "name": "python3"
  },
  "language_info": {
   "codemirror_mode": {
    "name": "ipython",
    "version": 3
   },
   "file_extension": ".py",
   "mimetype": "text/x-python",
   "name": "python",
   "nbconvert_exporter": "python",
   "pygments_lexer": "ipython3",
   "version": "3.11.9"
  }
 },
 "nbformat": 4,
 "nbformat_minor": 2
}
